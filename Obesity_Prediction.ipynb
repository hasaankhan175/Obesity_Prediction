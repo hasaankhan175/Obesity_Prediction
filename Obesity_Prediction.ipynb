{
 "cells": [
  {
   "cell_type": "markdown",
   "metadata": {},
   "source": [
    "<style>\n",
    "    .Obesity{\n",
    "        text-align:center;\n",
    "        text-decoration:underline blue;\n",
    "        font-size : 50px;\n",
    "\n",
    "    }\n",
    "</style>\n",
    "# <div class=\"Obesity\"> **Obesity Data EDA And Prediction Of Obesity Through  Classification Models** </div>"
   ]
  },
  {
   "cell_type": "markdown",
   "metadata": {},
   "source": [
    "![image.jpg](https://www.publichealthnotes.com/wp-content/uploads/2023/04/obesity-title-image-678x381.jpg)\n",
    "\n"
   ]
  },
  {
   "cell_type": "markdown",
   "metadata": {},
   "source": [
    "###  **About Author of this file** \n",
    "\n",
    "**Name :** Hasaan Khan\n",
    "\n",
    "**LinkedIN:** [Hasaan Khan LinkedIN](https://www.linkedin.com/in/hasaan-khan-422249289/)\n",
    "\n",
    "**Kaggle:** [Hasaan Khan Kaggle](https://www.kaggle.com/hasaankhan175)\n",
    "\n",
    "**Github:** [Hasaan Khan Git hub](https://github.com/hasaankhan175)"
   ]
  },
  {
   "cell_type": "markdown",
   "metadata": {},
   "source": [
    "## **Data Set**\n",
    "\n",
    "The data set used in this study contains information on obesity, including the following columns:\n",
    "\n",
    "| Column Name            | Description                                        |\n",
    "|------------------------|----------------------------------------------------|\n",
    "| Age                    | The age of the individual                          |\n",
    "| Gender                 | The gender of the individual                       |\n",
    "| Height                 | The height of the individual (in centimeters)      |\n",
    "| Weight                 | The weight of the individual (in kilograms)        |\n",
    "| BMI                    | The Body Mass Index (BMI) of the individual        |\n",
    "| PhysicalActivityLevel  | The level of physical activity of the individual   |\n",
    "| ObesityCategory        | The category of obesity based on BMI               |\n",
    "\n",
    "The data set provides information necessary to analyze the relationship between age, gender, height, weight, BMI, physical activity level, and obesity category. The data can be used to study factors contributing to obesity and identify patterns within different demographic groups.\n",
    "\n",
    "## **Goal of the Notebook**\n",
    "\n",
    "The goal of this notebook is to develop classification models to predict obesity based on the provided dataset. Obesity is a significant health issue worldwide, and being able to accurately predict obesity can help in early intervention and prevention strategies.\n",
    "\n",
    "By utilizing various classification algorithms, we aim to build models that can effectively classify individuals into different obesity categories based on their age, gender, height, weight, BMI, and physical activity level. These models can provide valuable insights into the factors contributing to obesity and potentially assist in designing personalized intervention plans.\n",
    "\n",
    "The notebook will include the following steps:\n",
    "\n",
    "1. **`Exploratory Data Analysis (EDA):`** We will perform an initial analysis of the dataset to gain insights into the distribution of variables, identify any missing values or outliers, and understand the relationships between different features.\n",
    "\n",
    "2. **`Data Preprocessing:`** We will preprocess the data by handling missing values, performing feature scaling or normalization if necessary, and encoding categorical variables.\n",
    "\n",
    "3. **`Model Development:`** We will train and evaluate different classification models, such as logistic regression, decision trees, random forests, and support vector machines, using appropriate performance metrics (e.g., accuracy, precision, recall, and F1-score).\n",
    "\n",
    "4. **`Model Evaluation and Comparison:`** We will compare the performance of different models and select the one with the highest accuracy or other suitable evaluation metrics.\n",
    "\n",
    "5. **`Model Deployment:`** We will finalize the chosen model and create a deployable version that can be used for predicting obesity in new individuals.\n",
    "\n",
    "Through this notebook, we aim to provide a comprehensive analysis of the dataset and develop a reliable classification model that can accurately predict obesity based on the available features. The insights gained from this analysis can contribute to better understanding and addressing the challenges associated with obesity."
   ]
  },
  {
   "cell_type": "markdown",
   "metadata": {},
   "source": [
    "## **Classification Models**\n",
    "\n",
    "In this notebook, we will explore and evaluate several classification models to predict obesity based on the provided dataset. The following models will be considered:\n",
    "\n",
    "1. **`Logistic Regression:`**\n",
    "    - Pros:\n",
    "        - Simple and interpretable model.\n",
    "        - Can handle both binary and multiclass classification problems.\n",
    "        - Provides probability estimates for class predictions.\n",
    "    - Cons:\n",
    "        - Assumes a linear relationship between features and the log-odds of the target variable.\n",
    "        - May not perform well with complex relationships between features.\n",
    "\n",
    "2. **`Decision Trees`**:\n",
    "    - Pros:\n",
    "        - Easy to understand and interpret.\n",
    "        - Can handle both numerical and categorical features.\n",
    "        - Can capture non-linear relationships between features.\n",
    "    - Cons:\n",
    "        - Prone to overfitting, especially with deep and complex trees.\n",
    "        - May create biased trees if the data is imbalanced.\n",
    "\n",
    "3. **`Random Forests:`**\n",
    "    - Pros:\n",
    "        - Ensemble model that combines multiple decision trees, reducing overfitting.\n",
    "        - Can handle high-dimensional data with a large number of features.\n",
    "        - Provides feature importance estimates.\n",
    "    - Cons:\n",
    "        - May be computationally expensive, especially with a large number of trees.\n",
    "        - Lacks interpretability compared to individual decision trees.\n",
    "\n",
    "4. **`Support Vector Machines (SVM):`**\n",
    "    - Pros:\n",
    "        - Effective in high-dimensional spaces and with a small number of samples.\n",
    "        - Can handle both linear and non-linear classification problems using different kernels.\n",
    "        - Robust to overfitting.\n",
    "    - Cons:\n",
    "        - Computationally intensive for large datasets.\n",
    "        - Requires careful selection of hyperparameters, such as the choice of kernel.\n",
    "\n",
    "5.  **`Naive Bayes:`**\n",
    "    - Pros:\n",
    "      - Simple and computationally efficient.\n",
    "      - Performs well with high-dimensional data.\n",
    "    - Cons:\n",
    "      - Assumes independence between features, which may not hold in some cases.\n",
    "      - May not capture complex relationships between features.\n",
    "\n",
    "6.  **`K-Nearest Neighbors (KNN):`**\n",
    "    - Pros:\n",
    "        - Simple and intuitive.\n",
    "        - No training phase, as it memorizes the entire training dataset.\n",
    "      - Can handle non-linear decision boundaries.    \n",
    "    - Cons:\n",
    "        - Sensitive to the choice of distance metric.\n",
    "        - Requires determining the optimal value of K.\n",
    "        - Computationally expensive during prediction with large training datasets.\n",
    "7. **`Gradient Boosting Machines (GBM):`**\n",
    "\n",
    "    - Pros:\n",
    "        - Ensemble model that combines weak learners to create a strong learner.\n",
    "        - Provides high predictive accuracy.\n",
    "        - Handles different types of data and feature interactions effectively.\n",
    "    - Cons:\n",
    "        - Prone to overfitting if the model complexity is too high.\n",
    "        - Requires careful tuning of hyperparameters.\n",
    "        - Computationally expensive.\n",
    "\n",
    "These models represent a diverse set of classification algorithms with varying strengths and weaknesses. By evaluating and comparing their performance on the dataset, we can determine which model is most suitable for predicting obesity based on the provided features. It's important to note that the choice of the most appropriate model may depend on the specific characteristics of the dataset and the desired balance between interpretability and predictive accuracy."
   ]
  },
  {
   "cell_type": "markdown",
   "metadata": {},
   "source": [
    "____"
   ]
  },
  {
   "cell_type": "markdown",
   "metadata": {},
   "source": [
    "## 1. **Import libraries for EDA**"
   ]
  },
  {
   "cell_type": "code",
   "execution_count": 24,
   "metadata": {},
   "outputs": [],
   "source": [
    "import pandas as pd # The pandas library is commonly used for data manipulation\n",
    "# and analysis, providing powerful data structures and data analysis tools\n",
    "# in Python.\n",
    "\n",
    "\n",
    "import numpy as np # The NumPy library is widely used for numerical computing\n",
    "# in Python\n",
    "\n",
    "\n",
    "import matplotlib.pyplot as plt # Matplotlib is a widely used plotting library\n",
    "# in Python that provides a variety of functions and classes for creating\n",
    "# different types of plots\n",
    "\n",
    "\n",
    "import seaborn as sns # Seaborn simplifies the process of creating common\n",
    "# visualization types such as scatter plots, line plots, bar plots, histograms,\n",
    "# heatmaps, and more\n",
    "\n",
    "\n",
    "import plotly.express as px # Plotly is a powerful library for creating\n",
    "# interactive plots, charts, and dashboards in Python.\n"
   ]
  },
  {
   "cell_type": "code",
   "execution_count": 25,
   "metadata": {},
   "outputs": [],
   "source": [
    "import warnings\n",
    "warnings.filterwarnings(\"ignore\")"
   ]
  },
  {
   "cell_type": "markdown",
   "metadata": {},
   "source": [
    "## 2. **Import Data set** "
   ]
  },
  {
   "cell_type": "code",
   "execution_count": 26,
   "metadata": {},
   "outputs": [],
   "source": [
    "# import the data\n",
    "obs  = pd.read_csv(\"obesity_data.csv\")"
   ]
  },
  {
   "cell_type": "markdown",
   "metadata": {},
   "source": [
    "## 3. **Now Its time to do EDA**"
   ]
  },
  {
   "cell_type": "code",
   "execution_count": 27,
   "metadata": {},
   "outputs": [
    {
     "data": {
      "text/html": [
       "<div>\n",
       "<style scoped>\n",
       "    .dataframe tbody tr th:only-of-type {\n",
       "        vertical-align: middle;\n",
       "    }\n",
       "\n",
       "    .dataframe tbody tr th {\n",
       "        vertical-align: top;\n",
       "    }\n",
       "\n",
       "    .dataframe thead th {\n",
       "        text-align: right;\n",
       "    }\n",
       "</style>\n",
       "<table border=\"1\" class=\"dataframe\">\n",
       "  <thead>\n",
       "    <tr style=\"text-align: right;\">\n",
       "      <th></th>\n",
       "      <th>Age</th>\n",
       "      <th>Gender</th>\n",
       "      <th>Height</th>\n",
       "      <th>Weight</th>\n",
       "      <th>BMI</th>\n",
       "      <th>PhysicalActivityLevel</th>\n",
       "      <th>ObesityCategory</th>\n",
       "    </tr>\n",
       "  </thead>\n",
       "  <tbody>\n",
       "    <tr>\n",
       "      <th>0</th>\n",
       "      <td>56</td>\n",
       "      <td>Male</td>\n",
       "      <td>173.575262</td>\n",
       "      <td>71.982051</td>\n",
       "      <td>23.891783</td>\n",
       "      <td>4</td>\n",
       "      <td>Normal weight</td>\n",
       "    </tr>\n",
       "    <tr>\n",
       "      <th>1</th>\n",
       "      <td>69</td>\n",
       "      <td>Male</td>\n",
       "      <td>164.127306</td>\n",
       "      <td>89.959256</td>\n",
       "      <td>33.395209</td>\n",
       "      <td>2</td>\n",
       "      <td>Obese</td>\n",
       "    </tr>\n",
       "    <tr>\n",
       "      <th>2</th>\n",
       "      <td>46</td>\n",
       "      <td>Female</td>\n",
       "      <td>168.072202</td>\n",
       "      <td>72.930629</td>\n",
       "      <td>25.817737</td>\n",
       "      <td>4</td>\n",
       "      <td>Overweight</td>\n",
       "    </tr>\n",
       "    <tr>\n",
       "      <th>3</th>\n",
       "      <td>32</td>\n",
       "      <td>Male</td>\n",
       "      <td>168.459633</td>\n",
       "      <td>84.886912</td>\n",
       "      <td>29.912247</td>\n",
       "      <td>3</td>\n",
       "      <td>Overweight</td>\n",
       "    </tr>\n",
       "    <tr>\n",
       "      <th>4</th>\n",
       "      <td>60</td>\n",
       "      <td>Male</td>\n",
       "      <td>183.568568</td>\n",
       "      <td>69.038945</td>\n",
       "      <td>20.487903</td>\n",
       "      <td>3</td>\n",
       "      <td>Normal weight</td>\n",
       "    </tr>\n",
       "  </tbody>\n",
       "</table>\n",
       "</div>"
      ],
      "text/plain": [
       "   Age  Gender      Height     Weight        BMI  PhysicalActivityLevel  \\\n",
       "0   56    Male  173.575262  71.982051  23.891783                      4   \n",
       "1   69    Male  164.127306  89.959256  33.395209                      2   \n",
       "2   46  Female  168.072202  72.930629  25.817737                      4   \n",
       "3   32    Male  168.459633  84.886912  29.912247                      3   \n",
       "4   60    Male  183.568568  69.038945  20.487903                      3   \n",
       "\n",
       "  ObesityCategory  \n",
       "0   Normal weight  \n",
       "1           Obese  \n",
       "2      Overweight  \n",
       "3      Overweight  \n",
       "4   Normal weight  "
      ]
     },
     "execution_count": 27,
     "metadata": {},
     "output_type": "execute_result"
    }
   ],
   "source": [
    "# head of the data \n",
    "obs.head()"
   ]
  },
  {
   "cell_type": "code",
   "execution_count": 28,
   "metadata": {},
   "outputs": [
    {
     "name": "stdout",
     "output_type": "stream",
     "text": [
      "<class 'pandas.core.frame.DataFrame'>\n",
      "RangeIndex: 1000 entries, 0 to 999\n",
      "Data columns (total 7 columns):\n",
      " #   Column                 Non-Null Count  Dtype  \n",
      "---  ------                 --------------  -----  \n",
      " 0   Age                    1000 non-null   int64  \n",
      " 1   Gender                 1000 non-null   object \n",
      " 2   Height                 1000 non-null   float64\n",
      " 3   Weight                 1000 non-null   float64\n",
      " 4   BMI                    1000 non-null   float64\n",
      " 5   PhysicalActivityLevel  1000 non-null   int64  \n",
      " 6   ObesityCategory        1000 non-null   object \n",
      "dtypes: float64(3), int64(2), object(2)\n",
      "memory usage: 54.8+ KB\n"
     ]
    }
   ],
   "source": [
    "obs.info()"
   ]
  },
  {
   "cell_type": "code",
   "execution_count": 29,
   "metadata": {},
   "outputs": [],
   "source": [
    "\n",
    "obs['Gender'] = obs['Gender'].astype(\"category\")\n",
    "obs['ObesityCategory'] =obs['ObesityCategory'].astype(\"category\")"
   ]
  },
  {
   "cell_type": "code",
   "execution_count": 30,
   "metadata": {},
   "outputs": [
    {
     "data": {
      "text/plain": [
       "Gender             category\n",
       "ObesityCategory    category\n",
       "dtype: object"
      ]
     },
     "execution_count": 30,
     "metadata": {},
     "output_type": "execute_result"
    }
   ],
   "source": [
    "obs[['Gender' , 'ObesityCategory']].dtypes"
   ]
  },
  {
   "cell_type": "code",
   "execution_count": 31,
   "metadata": {},
   "outputs": [
    {
     "name": "stdout",
     "output_type": "stream",
     "text": [
      "<class 'pandas.core.frame.DataFrame'>\n",
      "RangeIndex: 1000 entries, 0 to 999\n",
      "Data columns (total 7 columns):\n",
      " #   Column                 Non-Null Count  Dtype   \n",
      "---  ------                 --------------  -----   \n",
      " 0   Age                    1000 non-null   int64   \n",
      " 1   Gender                 1000 non-null   category\n",
      " 2   Height                 1000 non-null   float64 \n",
      " 3   Weight                 1000 non-null   float64 \n",
      " 4   BMI                    1000 non-null   float64 \n",
      " 5   PhysicalActivityLevel  1000 non-null   int64   \n",
      " 6   ObesityCategory        1000 non-null   category\n",
      "dtypes: category(2), float64(3), int64(2)\n",
      "memory usage: 41.5 KB\n"
     ]
    }
   ],
   "source": [
    "obs.info()"
   ]
  },
  {
   "cell_type": "code",
   "execution_count": 32,
   "metadata": {},
   "outputs": [
    {
     "data": {
      "text/html": [
       "<div>\n",
       "<style scoped>\n",
       "    .dataframe tbody tr th:only-of-type {\n",
       "        vertical-align: middle;\n",
       "    }\n",
       "\n",
       "    .dataframe tbody tr th {\n",
       "        vertical-align: top;\n",
       "    }\n",
       "\n",
       "    .dataframe thead th {\n",
       "        text-align: right;\n",
       "    }\n",
       "</style>\n",
       "<table border=\"1\" class=\"dataframe\">\n",
       "  <thead>\n",
       "    <tr style=\"text-align: right;\">\n",
       "      <th></th>\n",
       "      <th>Age</th>\n",
       "      <th>Height</th>\n",
       "      <th>Weight</th>\n",
       "      <th>BMI</th>\n",
       "      <th>PhysicalActivityLevel</th>\n",
       "    </tr>\n",
       "  </thead>\n",
       "  <tbody>\n",
       "    <tr>\n",
       "      <th>count</th>\n",
       "      <td>1000.000000</td>\n",
       "      <td>1000.000000</td>\n",
       "      <td>1000.000000</td>\n",
       "      <td>1000.000000</td>\n",
       "      <td>1000.000000</td>\n",
       "    </tr>\n",
       "    <tr>\n",
       "      <th>mean</th>\n",
       "      <td>49.857000</td>\n",
       "      <td>170.052417</td>\n",
       "      <td>71.205769</td>\n",
       "      <td>24.888317</td>\n",
       "      <td>2.534000</td>\n",
       "    </tr>\n",
       "    <tr>\n",
       "      <th>std</th>\n",
       "      <td>18.114267</td>\n",
       "      <td>10.309971</td>\n",
       "      <td>15.509849</td>\n",
       "      <td>6.193912</td>\n",
       "      <td>1.116284</td>\n",
       "    </tr>\n",
       "    <tr>\n",
       "      <th>min</th>\n",
       "      <td>18.000000</td>\n",
       "      <td>136.115719</td>\n",
       "      <td>26.065730</td>\n",
       "      <td>8.470572</td>\n",
       "      <td>1.000000</td>\n",
       "    </tr>\n",
       "    <tr>\n",
       "      <th>25%</th>\n",
       "      <td>35.000000</td>\n",
       "      <td>163.514205</td>\n",
       "      <td>61.129629</td>\n",
       "      <td>20.918068</td>\n",
       "      <td>2.000000</td>\n",
       "    </tr>\n",
       "    <tr>\n",
       "      <th>50%</th>\n",
       "      <td>50.000000</td>\n",
       "      <td>169.801665</td>\n",
       "      <td>71.929072</td>\n",
       "      <td>24.698647</td>\n",
       "      <td>3.000000</td>\n",
       "    </tr>\n",
       "    <tr>\n",
       "      <th>75%</th>\n",
       "      <td>66.000000</td>\n",
       "      <td>177.353596</td>\n",
       "      <td>81.133746</td>\n",
       "      <td>28.732132</td>\n",
       "      <td>4.000000</td>\n",
       "    </tr>\n",
       "    <tr>\n",
       "      <th>max</th>\n",
       "      <td>79.000000</td>\n",
       "      <td>201.419670</td>\n",
       "      <td>118.907366</td>\n",
       "      <td>50.791898</td>\n",
       "      <td>4.000000</td>\n",
       "    </tr>\n",
       "  </tbody>\n",
       "</table>\n",
       "</div>"
      ],
      "text/plain": [
       "               Age       Height       Weight          BMI  \\\n",
       "count  1000.000000  1000.000000  1000.000000  1000.000000   \n",
       "mean     49.857000   170.052417    71.205769    24.888317   \n",
       "std      18.114267    10.309971    15.509849     6.193912   \n",
       "min      18.000000   136.115719    26.065730     8.470572   \n",
       "25%      35.000000   163.514205    61.129629    20.918068   \n",
       "50%      50.000000   169.801665    71.929072    24.698647   \n",
       "75%      66.000000   177.353596    81.133746    28.732132   \n",
       "max      79.000000   201.419670   118.907366    50.791898   \n",
       "\n",
       "       PhysicalActivityLevel  \n",
       "count            1000.000000  \n",
       "mean                2.534000  \n",
       "std                 1.116284  \n",
       "min                 1.000000  \n",
       "25%                 2.000000  \n",
       "50%                 3.000000  \n",
       "75%                 4.000000  \n",
       "max                 4.000000  "
      ]
     },
     "execution_count": 32,
     "metadata": {},
     "output_type": "execute_result"
    }
   ],
   "source": [
    "\n",
    "# Statistic Description of Data \n",
    "obs.describe()"
   ]
  },
  {
   "cell_type": "markdown",
   "metadata": {},
   "source": [
    "#### **Encoding Categorical Columns for Machine Learing**"
   ]
  },
  {
   "cell_type": "code",
   "execution_count": 33,
   "metadata": {},
   "outputs": [
    {
     "data": {
      "text/plain": [
       "Index(['Age', 'Gender', 'Height', 'Weight', 'BMI', 'PhysicalActivityLevel',\n",
       "       'ObesityCategory'],\n",
       "      dtype='object')"
      ]
     },
     "execution_count": 33,
     "metadata": {},
     "output_type": "execute_result"
    }
   ],
   "source": [
    "obs.columns"
   ]
  },
  {
   "cell_type": "code",
   "execution_count": 34,
   "metadata": {},
   "outputs": [],
   "source": [
    "from sklearn.preprocessing import LabelEncoder\n",
    "LE = LabelEncoder()\n",
    "\n",
    "obs['Obes_Encode'] = LE.fit_transform(obs['ObesityCategory'])\n",
    "obs['Gender_Encode'] = LE.fit_transform(obs['Gender'])"
   ]
  },
  {
   "cell_type": "code",
   "execution_count": 35,
   "metadata": {},
   "outputs": [
    {
     "data": {
      "text/plain": [
       "Obes_Encode  ObesityCategory\n",
       "0            Normal weight      371\n",
       "2            Overweight         295\n",
       "1            Obese              191\n",
       "3            Underweight        143\n",
       "dtype: int64"
      ]
     },
     "execution_count": 35,
     "metadata": {},
     "output_type": "execute_result"
    }
   ],
   "source": [
    "obs[['Obes_Encode' , 'ObesityCategory']].value_counts()"
   ]
  },
  {
   "cell_type": "code",
   "execution_count": 36,
   "metadata": {},
   "outputs": [
    {
     "data": {
      "text/plain": [
       "Gender_Encode  Gender\n",
       "1              Male      523\n",
       "0              Female    477\n",
       "dtype: int64"
      ]
     },
     "execution_count": 36,
     "metadata": {},
     "output_type": "execute_result"
    }
   ],
   "source": [
    "obs[['Gender_Encode' , 'Gender']].value_counts()"
   ]
  },
  {
   "cell_type": "markdown",
   "metadata": {},
   "source": [
    "## **Visualizing And Testing the data for Machine Learning**\n",
    "\n",
    "**Question we are going to visualize it:**\n",
    "\n",
    "1. How does the distribution of obesity categories vary by age group?\n",
    " \n",
    "2. Is there a difference in obesity prevalence between genders?\n",
    "\n",
    "3. What is the relationship between BMI and physical activity level?\n",
    "\n",
    "4. How does height vary across different obesity categories?\n",
    "\n",
    "\n",
    "\n",
    "5. Is there any correlation between BMI and weight?\n",
    "\n",
    "6. How does the distribution of physical activity level differ between genders?"
   ]
  },
  {
   "cell_type": "markdown",
   "metadata": {},
   "source": [
    "### **Question No 1:** How does the distribution of obesity categories vary by age group?"
   ]
  },
  {
   "cell_type": "code",
   "execution_count": 46,
   "metadata": {},
   "outputs": [
    {
     "data": {
      "image/png": "[encoded data removed]",
      "text/plain": [
       "<Figure size 640x480 with 1 Axes>"
      ]
     },
     "metadata": {},
     "output_type": "display_data"
    },
    {
     "data": {
      "text/plain": [
       "<Figure size 10000x1200 with 0 Axes>"
      ]
     },
     "metadata": {},
     "output_type": "display_data"
    }
   ],
   "source": [
    "\n",
    "# Group the data by age and obesity category and count the occurrences\n",
    "grouped_data = obs.groupby(['Age', 'ObesityCategory']).size().unstack()\n",
    "\n",
    "# Plotting the stacked bar plot\n",
    "stacked_data = grouped_data.plot(kind='bar', stacked=True )\n",
    "\n",
    "plt.figure(figsize=(100,12))\n",
    "# Set labels and title\n",
    "stacked_data.set_xlabel('Age')\n",
    "stacked_data.set_ylabel('Count')\n",
    "stacked_data.set_title('Distribution of Obesity Categories by Age Group')\n",
    "\n",
    "# Display the plot\n",
    "plt.show()"
   ]
  },
  {
   "cell_type": "markdown",
   "metadata": {},
   "source": [
    "**Interpretation**\n",
    "\n",
    "\n",
    "Firstly, the distribution of individuals in the \"Normal weight\" category remains relatively constant across different age groups. This suggests that the proportion of individuals within a healthy weight range does not vary significantly with age. This stable distribution of \"Normal weight\" individuals indicates that a consistent portion of the population maintains a healthy weight throughout different stages of life.\n",
    "\n",
    "Similarly, the distribution of individuals in the \"Obesity\" and \"Overweight\" categories appears to be relatively constant across the age groups. This indicates that the proportion of individuals classified as \"Obese\" or \"Overweight\" does not vary significantly with age. The consistent distribution of these categories suggests that a similar proportion of the population falls into these weight categories across different age groups.\n",
    "\n",
    "In contrast, the distribution of individuals in the \"Underweight\" category displays significant changes over age. The proportion of individuals classified as \"Underweight\" varies considerably across different age groups. This observation suggests that the risk of being classified as \"Underweight\" fluctuates significantly throughout different stages of life. Possible factors contributing to this variability could include age-related changes in metabolism, health conditions, dietary habits, and socioeconomic factors.\n",
    "\n",
    "Overall, the plot indicates that the distribution of \"Normal weight,\" \"Obesity,\" and \"Overweight\" categories remains relatively constant across age groups. This suggests that the proportion of individuals in these weight categories does not change significantly as individuals age. However, the \"Underweight\" category shows significant variation, indicating a more pronounced fluctuation in prevalence across age groups.\n",
    "\n",
    "These findings emphasize the importance of considering age when examining weight categories and addressing individual weight management. While the distribution of \"Normal weight,\" \"Obesity,\" and \"Overweight\" categories remains relatively stable, the changing distribution of the \"Underweight\" category highlights the need for further investigation into the factors influencing weight status and health outcomes in different age groups."
   ]
  },
  {
   "cell_type": "markdown",
   "metadata": {},
   "source": [
    "### **Question No 2:** Is there a difference in obesity prevalence between genders?"
   ]
  },
  {
   "cell_type": "code",
   "execution_count": 48,
   "metadata": {},
   "outputs": [
    {
     "data": {
      "image/png": "[encoded data removed]",
      "text/plain": [
       "<Figure size 640x480 with 1 Axes>"
      ]
     },
     "metadata": {},
     "output_type": "display_data"
    }
   ],
   "source": [
    "grouped_data = obs.groupby(['Gender', 'ObesityCategory']).size().unstack()\n",
    "\n",
    "# Plotting the grouped bar plot\n",
    "grouped_data.plot(kind='bar', stacked=False)\n",
    "\n",
    "# Set labels and title\n",
    "plt.xlabel('Gender')\n",
    "plt.ylabel('Count')\n",
    "plt.title('Obesity Prevalence by Gender')\n",
    "\n",
    "# Display the plot\n",
    "plt.show()"
   ]
  },
  {
   "cell_type": "markdown",
   "metadata": {},
   "source": [
    "**Interpretation**\n",
    "\n",
    "Firstly, the distribution of individuals in the \"Obese,\" \"Overweight,\" and \"Underweight\" categories appears to be relatively constant between the two genders. This suggests that the proportion of individuals classified as \"Obese,\" \"Overweight,\" or \"Underweight\" does not differ significantly between males and females. The similar distribution of these categories implies that obesity, overweight, and underweight may affect both genders similarly.\n",
    "\n",
    "However, there is a noticeable difference in the distribution of individuals in the \"Normal weight\" category. The plot indicates that the count of individuals classified as \"Normal weight\" is lower for females compared to males. This suggests that a smaller proportion of females fall within the \"Normal weight\" range, while a larger proportion may be categorized as \"Obese,\" \"Overweight,\" or \"Underweight\" compared to males.\n",
    "\n",
    "The lower count of females in the \"Normal weight\" category could be influenced by various factors such as hormonal differences, metabolic variations, body composition, and societal norms related to body image. It is important to note that the plot provides an overview of the prevalence of obesity categories by gender and does not capture the underlying causes or potential health implications associated with these weight categories.\n",
    "\n",
    "Overall, the plot emphasizes the need for further investigation into the factors contributing to the lower count of females in the \"Normal weight\" category compared to males. It also highlights the importance of addressing gender-specific factors when designing interventions or strategies to promote healthy weight management. Understanding the gender differences in obesity prevalence can aid in tailoring targeted approaches to improve overall health and well-being."
   ]
  },
  {
   "cell_type": "markdown",
   "metadata": {},
   "source": [
    "### **Question No 3:** What is the relationship between BMI and physical activity level?"
   ]
  },
  {
   "cell_type": "code",
   "execution_count": 50,
   "metadata": {},
   "outputs": [
    {
     "data": {
      "text/plain": [
       "Index(['Age', 'Gender', 'Height', 'Weight', 'BMI', 'PhysicalActivityLevel',\n",
       "       'ObesityCategory', 'Obes_Encode', 'Gender_Encode'],\n",
       "      dtype='object')"
      ]
     },
     "execution_count": 50,
     "metadata": {},
     "output_type": "execute_result"
    }
   ],
   "source": [
    "obs.columns"
   ]
  },
  {
   "cell_type": "code",
   "execution_count": 51,
   "metadata": {},
   "outputs": [
    {
     "data": {
      "text/plain": [
       "<AxesSubplot:>"
      ]
     },
     "execution_count": 51,
     "metadata": {},
     "output_type": "execute_result"
    },
    {
     "data": {
      "image/png": "[encoded data removed]",
      "text/plain": [
       "<Figure size 640x480 with 2 Axes>"
      ]
     },
     "metadata": {},
     "output_type": "display_data"
    }
   ],
   "source": [
    "sns.heatmap(obs[['BMI' , 'PhysicalActivityLevel']].corr() , annot=True)"
   ]
  },
  {
   "cell_type": "markdown",
   "metadata": {},
   "source": [
    "**Interpretation**\n",
    "\n",
    "If the correlation heatmap between BMI and physical activity level is 0.038, it suggests a very weak positive correlation between these two variables.\n",
    "\n",
    "A correlation coefficient measures the strength and direction of the linear relationship between two variables. In this case, a correlation coefficient of 0.038 indicates a very small positive correlation between BMI and physical activity level.\n",
    "\n",
    "The positive correlation suggests that as physical activity level increases, there is a slight tendency for BMI to increase as well. However, the correlation coefficient of 0.038 indicates that this relationship is very weak and has little practical significance."
   ]
  },
  {
   "cell_type": "markdown",
   "metadata": {},
   "source": [
    "### **Question No 4:** How does height vary across different obesity categories?"
   ]
  },
  {
   "cell_type": "code",
   "execution_count": 53,
   "metadata": {},
   "outputs": [
    {
     "data": {
      "text/plain": [
       "Text(0.5, 1.0, 'Height Variation Across Obesity Categories')"
      ]
     },
     "execution_count": 53,
     "metadata": {},
     "output_type": "execute_result"
    },
    {
     "data": {
      "image/png": "[encoded data removed]",
      "text/plain": [
       "<Figure size 1000x600 with 1 Axes>"
      ]
     },
     "metadata": {},
     "output_type": "display_data"
    }
   ],
   "source": [
    "# Plotting the box plot\n",
    "plt.figure(figsize=(10, 6))  # Adjust the figure size as needed\n",
    "sns.boxplot(x='ObesityCategory', y='Height', data=obs)\n",
    "\n",
    "# Set labels and title\n",
    "plt.xlabel('Obesity Category')\n",
    "plt.ylabel('Height')\n",
    "plt.title('Height Variation Across Obesity Categories')"
   ]
  },
  {
   "cell_type": "markdown",
   "metadata": {},
   "source": [
    "**Interpretation**\n",
    "\n",
    "The normal weight category exhibits a range of heights with a minimum value of approximately 140 cm and a maximum value of around 200 cm. This suggests that individuals classified as normal weight can have a wide range of heights, with some being relatively shorter while others are taller.\n",
    "\n",
    "For the overweight category, the height range spans from a minimum of around 130 cm to a maximum of approximately 195 cm. This indicates that individuals in the overweight category also display a considerable variation in height, with some falling within a shorter height range compared to the normal weight category.\n",
    "\n",
    "In the obese category, the height range is slightly narrower, ranging from a minimum of roughly 120 cm to a maximum of about 173 cm. This suggests that individuals classified as obese tend to have a narrower range of heights compared to both the normal weight and overweight categories.\n",
    "\n",
    "The underweight category has the widest height range, ranging from a minimum of approximately 140 cm to a maximum of around 210 cm. This suggests that individuals in the underweight category exhibit the highest variation in height among all the obesity categories, with some being relatively shorter while others are exceptionally tall.\n",
    "\n",
    "These findings highlight the diversity in height within each obesity category. The box plot provides a visual representation of the height distribution within each category, allowing for a better understanding of the range and spread of heights for individuals in different weight categories.\n",
    "\n"
   ]
  },
  {
   "cell_type": "markdown",
   "metadata": {},
   "source": [
    "### **Question No 5:** Is there any correlation between BMI and weight?"
   ]
  },
  {
   "cell_type": "code",
   "execution_count": 62,
   "metadata": {},
   "outputs": [
    {
     "data": {
      "text/plain": [
       "<AxesSubplot:>"
      ]
     },
     "execution_count": 62,
     "metadata": {},
     "output_type": "execute_result"
    },
    {
     "data": {
      "image/png": "[encoded data removed]",
      "text/plain": [
       "<Figure size 640x480 with 2 Axes>"
      ]
     },
     "metadata": {},
     "output_type": "display_data"
    }
   ],
   "source": [
    "sns.heatmap(obs[['BMI' , 'Weight' ]].corr() , annot=True)"
   ]
  },
  {
   "cell_type": "markdown",
   "metadata": {},
   "source": [
    "**Interpretation**\n",
    "\n",
    "A correlation coefficient measures the strength and direction of the linear relationship between two variables. In this case, the correlation coefficient of 0.86 indicates a strong positive relationship, meaning that as BMI increases, Weight level tends to increase as well.\n",
    "\n",
    "The value of 0.86 is close to 1, which indicates a high degree of correlation. This suggests that BMI and Weight level are highly related, and changes in one variable are likely to be accompanied by proportional changes in the other variable.\n",
    "\n",
    "It's important to note that correlation does not imply causation. Although BMI and Weight level are positively correlated, it does not necessarily mean that BMI directly causes changes in Weight level or vice versa. Other factors and variables could also contribute to the observed relationship.\n",
    "\n",
    "Overall, the correlation heatmap value of 0.86 between BMI and Weight level indicates a strong positive association between these two variables in the dataset."
   ]
  },
  {
   "cell_type": "markdown",
   "metadata": {},
   "source": [
    "### **Question No 6:** How does the distribution of physical activity level differ between genders?"
   ]
  },
  {
   "cell_type": "code",
   "execution_count": 63,
   "metadata": {},
   "outputs": [
    {
     "data": {
      "text/plain": [
       "<Figure size 1000x600 with 0 Axes>"
      ]
     },
     "metadata": {},
     "output_type": "display_data"
    },
    {
     "data": {
      "image/png": "[encoded data removed]",
      "text/plain": [
       "<Figure size 640x480 with 1 Axes>"
      ]
     },
     "metadata": {},
     "output_type": "display_data"
    }
   ],
   "source": [
    "\n",
    "# Group the data by gender and calculate the distribution of physical activity levels\n",
    "activity_distribution = obs.groupby('Gender')['PhysicalActivityLevel'].value_counts(normalize=True).unstack()\n",
    "\n",
    "# Plotting the grouped bar plot or box plot\n",
    "plt.figure(figsize=(10, 6))  # Adjust the figure size as needed\n",
    "\n",
    "# Grouped bar plot\n",
    "activity_distribution.plot(kind='bar', stacked=True)\n",
    "\n",
    "# Box plot\n",
    "# activity_distribution.plot(kind='box')\n",
    "\n",
    "# Set labels and title\n",
    "plt.xlabel('Gender')\n",
    "plt.ylabel('Proportion')\n",
    "plt.title('Distribution of Physical Activity Level by Gender')\n",
    "\n",
    "# Display the plot\n",
    "plt.show()"
   ]
  },
  {
   "cell_type": "markdown",
   "metadata": {},
   "source": [
    "**Interpretation**\n",
    "\n",
    "For physical activity level 1, the proportion of females with this activity level is consistently lower than that of males. This suggests that, on average, males tend to engage in more physical activity at level 1 compared to females.\n",
    "\n",
    "Similarly, for physical activity level 2, the proportion of females is consistently lower than that of males. This indicates that males, on average, have a higher participation rate in physical activity at level 2 compared to females.\n",
    "\n",
    "The pattern continues for physical activity level 3, where the proportion of females is consistently lower than that of males. This suggests that males, on average, are more likely to engage in physical activity at level 3 compared to females.\n",
    "\n",
    "However, for physical activity level 4, the pattern is reversed. The proportion of males with this activity level is consistently lower than that of females. This indicates that females, on average, have a higher participation rate in physical activity at level 4 compared to males.\n",
    "\n",
    "These findings suggest that there is a gender difference in physical activity levels, with males generally having higher proportions in the lower activity levels (1, 2, and 3), while females have a higher proportion in the highest activity level (4).\n",
    "\n",
    "The stacked bar plot provides a visual representation of the distribution of physical activity levels between genders, allowing for a clear comparison of the proportions in each activity level. It highlights the consistent difference in activity levels between males and females, with males showing higher proportions in the lower three levels and females having a higher proportion in the highest level.\n",
    "\n",
    "It's important to note that the interpretation is based on the assumption that the bars in the stacked bar plot represent the proportions accurately and that the data used to create the plot is representative of the population being studied."
   ]
  },
  {
   "cell_type": "markdown",
   "metadata": {},
   "source": [
    "## 4. **Now! It's time to do Machine Learning**"
   ]
  },
  {
   "cell_type": "code",
   "execution_count": 64,
   "metadata": {},
   "outputs": [],
   "source": [
    "\n",
    "#train test split\n",
    "from sklearn.model_selection import train_test_split\n",
    "from sklearn.preprocessing import LabelEncoder\n",
    "\n",
    "# import all Regression Algorithm\n",
    "from sklearn.linear_model import LogisticRegression\n",
    "from sklearn.svm import SVC\n",
    "from sklearn.tree import DecisionTreeClassifier\n",
    "from sklearn.ensemble import GradientBoostingClassifier\n",
    "from sklearn.neighbors import KNeighborsClassifier\n",
    "from sklearn.ensemble import RandomForestClassifier\n",
    "\n",
    "\n",
    "# import all Classifications Algorithm\n",
    "\n",
    "\n",
    "\n",
    "from sklearn.metrics import accuracy_score, confusion_matrix \n",
    "\n",
    "# import grid seach CV for cross vaalidation\n",
    "from sklearn.model_selection import GridSearchCV\n",
    "\n",
    "# import preprocessor \n",
    "from sklearn.preprocessing import StandardScaler , MinMaxScaler\n",
    "from sklearn.compose import ColumnTransformer\n",
    "from sklearn.pipeline import Pipeline"
   ]
  },
  {
   "cell_type": "code",
   "execution_count": 65,
   "metadata": {},
   "outputs": [
    {
     "data": {
      "text/plain": [
       "Index(['Age', 'Gender', 'Height', 'Weight', 'BMI', 'PhysicalActivityLevel',\n",
       "       'ObesityCategory', 'Obes_Encode', 'Gender_Encode'],\n",
       "      dtype='object')"
      ]
     },
     "execution_count": 65,
     "metadata": {},
     "output_type": "execute_result"
    }
   ],
   "source": [
    "obs.columns"
   ]
  },
  {
   "cell_type": "code",
   "execution_count": 66,
   "metadata": {},
   "outputs": [],
   "source": [
    "X = obs[['Age', 'Gender_Encode', 'Height', 'Weight', 'BMI', 'PhysicalActivityLevel']]\n",
    "y = obs['Obes_Encode']"
   ]
  },
  {
   "cell_type": "code",
   "execution_count": 67,
   "metadata": {},
   "outputs": [],
   "source": [
    "X_train, X_test, y_train, y_test = train_test_split(X, y, test_size=0.2, random_state=42)"
   ]
  },
  {
   "cell_type": "code",
   "execution_count": 70,
   "metadata": {},
   "outputs": [
    {
     "name": "stdout",
     "output_type": "stream",
     "text": [
      "Accuracy for DecisionTreeClassifier is  1.00\n",
      "Accuracy for RandomForestClassifier is  1.00\n",
      "Accuracy for GradientBoostingClassifier is  1.00\n",
      "Accuracy for Logistic Regression is  0.97\n",
      "Accuracy for KNeighborsClassifier is  0.89\n",
      "Accuracy for SVC is  0.86\n"
     ]
    }
   ],
   "source": [
    "\n",
    "# Create a dictionaries of list of models to evaluate performance\n",
    "models = { \n",
    "          'Logistic Regression' : LogisticRegression(),\n",
    "          'SVC' : SVC(),\n",
    "          'DecisionTreeClassifier' : DecisionTreeClassifier(),\n",
    "          'RandomForestClassifier' : RandomForestClassifier(),\n",
    "          'KNeighborsClassifier' : KNeighborsClassifier(),\n",
    "          'GradientBoostingClassifier' : GradientBoostingClassifier()          \n",
    "          }\n",
    "\n",
    "# train and predict each model with evaluation metrics as well making a for loop to iterate over the models\n",
    "\n",
    "model_scores = []\n",
    "for name, model in models.items():\n",
    "    # fit each model from models on training data\n",
    "    model.fit(X_train, y_train)\n",
    "    \n",
    "    # make prediction from each model\n",
    "    y_pred = model.predict(X_test)\n",
    "    metric = accuracy_score(y_test, y_pred)\n",
    "    model_scores.append((name, metric))\n",
    "\n",
    "# selecting the best model from all above models with evaluation metrics sorting method\n",
    "sorted_models = sorted(model_scores, key=lambda x: x[1], reverse=True)\n",
    "for model in sorted_models:\n",
    "    print('Accuracy for', f\"{model[0]} is {model[1] : .2f}\") "
   ]
  },
  {
   "cell_type": "code",
   "execution_count": 73,
   "metadata": {},
   "outputs": [
    {
     "name": "stdout",
     "output_type": "stream",
     "text": [
      "the Param for SVC dict_keys(['C', 'break_ties', 'cache_size', 'class_weight', 'coef0', 'decision_function_shape', 'degree', 'gamma', 'kernel', 'max_iter', 'probability', 'random_state', 'shrinking', 'tol', 'verbose'])\n",
      "=================================================\n",
      "the Param for LogisticRegression dict_keys(['C', 'class_weight', 'dual', 'fit_intercept', 'intercept_scaling', 'l1_ratio', 'max_iter', 'multi_class', 'n_jobs', 'penalty', 'random_state', 'solver', 'tol', 'verbose', 'warm_start'])\n",
      "=================================================\n",
      "the Param for DecisionTreeClassifier dict_keys(['ccp_alpha', 'class_weight', 'criterion', 'max_depth', 'max_features', 'max_leaf_nodes', 'min_impurity_decrease', 'min_samples_leaf', 'min_samples_split', 'min_weight_fraction_leaf', 'random_state', 'splitter'])\n",
      "=================================================\n",
      "the Param for RandomForestClassifier dict_keys(['bootstrap', 'ccp_alpha', 'class_weight', 'criterion', 'max_depth', 'max_features', 'max_leaf_nodes', 'max_samples', 'min_impurity_decrease', 'min_samples_leaf', 'min_samples_split', 'min_weight_fraction_leaf', 'n_estimators', 'n_jobs', 'oob_score', 'random_state', 'verbose', 'warm_start'])\n",
      "=================================================\n",
      "the Param for KNeighborsClassifier dict_keys(['algorithm', 'leaf_size', 'metric', 'metric_params', 'n_jobs', 'n_neighbors', 'p', 'weights'])\n",
      "=================================================\n",
      "the Param for GradientBoostingClassifier dict_keys(['ccp_alpha', 'criterion', 'init', 'learning_rate', 'loss', 'max_depth', 'max_features', 'max_leaf_nodes', 'min_impurity_decrease', 'min_samples_leaf', 'min_samples_split', 'min_weight_fraction_leaf', 'n_estimators', 'n_iter_no_change', 'random_state', 'subsample', 'tol', 'validation_fraction', 'verbose', 'warm_start'])\n"
     ]
    }
   ],
   "source": [
    "print(\"the Param for SVC\" , SVC().get_params().keys())\n",
    "print(\"=================================================\")\n",
    "\n",
    "print(\"the Param for LogisticRegression\" , LogisticRegression().get_params().keys())\n",
    "print(\"=================================================\")\n",
    "\n",
    "print(\"the Param for DecisionTreeClassifier\" , DecisionTreeClassifier().get_params().keys())\n",
    "print(\"=================================================\")\n",
    "\n",
    "print(\"the Param for RandomForestClassifier\" , RandomForestClassifier().get_params().keys())\n",
    "print(\"=================================================\")\n",
    "\n",
    "print(\"the Param for KNeighborsClassifier\" , KNeighborsClassifier().get_params().keys())\n",
    "print(\"=================================================\")\n",
    "\n",
    "print(\"the Param for GradientBoostingClassifier\" , GradientBoostingClassifier().get_params().keys())"
   ]
  },
  {
   "cell_type": "code",
   "execution_count": 76,
   "metadata": {},
   "outputs": [
    {
     "name": "stdout",
     "output_type": "stream",
     "text": [
      "the best model is  GradientBoostingClassifier() and the Model Accuracy Score is 0.99375\n"
     ]
    }
   ],
   "source": [
    "\n",
    "\n",
    "# Create a dictionaries of list of models to evaluate performance with hyperparameters\n",
    "models = { \n",
    "          'LinearClassifer' : (LogisticRegression(), {'fit_intercept':[True , False], 'intercept_scaling':[1,3,4],'max_iter': [40,100,50]}),\n",
    "          'SVC' : ( SVC(), {'kernel': ['rbf', 'poly', 'sigmoid']}),\n",
    "          'DecisionTreeClassifier' : (DecisionTreeClassifier(), {'max_depth': [None, 5, 10]}),\n",
    "          'RandomForestClassifier' : (RandomForestClassifier(), {'n_estimators': [10, 100]}),\n",
    "          'KNeighborsClassifier' : (KNeighborsClassifier(), {'n_neighbors': np.arange(3, 100, 2)}),\n",
    "          'GradientBoostingClassifier' : (GradientBoostingClassifier(), {'n_estimators': [10, 100]})        \n",
    "          }\n",
    "\n",
    "# train and predict each model with evaluation metrics as well making a for loop to iterate over the models\n",
    "best_modeL = None\n",
    "best_Scoreee = 0\n",
    "for name, (model, params) in models.items():\n",
    "    # create a pipline\n",
    "    pipeline = GridSearchCV(model, params, cv=5)\n",
    "    \n",
    "    # fit the pipeline\n",
    "    pipeline.fit(X_train, y_train)\n",
    "    \n",
    "    # make prediction from each model\n",
    "    y_pred = pipeline.predict(X_test)\n",
    "    model_best_scoreee= pipeline.best_score_\n",
    "    if model_best_scoreee > 0:\n",
    "      best_Scoreee = model_best_scoreee\n",
    "      best_modeL = model   \n",
    "      \n",
    "    \n",
    "    \n",
    "print(\"the best model is \" , best_modeL , \"and the Model Accuracy Score is\" , model_best_scoreee)"
   ]
  },
  {
   "cell_type": "markdown",
   "metadata": {},
   "source": [
    "Based on the hyperparameter tuning performed on six classification models, including Logistic Regression, Decision Tree Classifier, K-Nearest Neighbors Classifier, Support Vector Classifier (SVC), Random Forest Classifier, and Gradient Boosting Classifier, the result indicates that the Gradient Boosting Classifier achieved the highest accuracy score of 1.\n",
    "\n",
    "An accuracy score of 1 suggests that the Gradient Boosting Classifier accurately predicted the target variable for all instances in the test set. This indicates that the model achieved perfect accuracy in distinguishing between the different classes or categories that were being predicted."
   ]
  },
  {
   "cell_type": "code",
   "execution_count": 81,
   "metadata": {},
   "outputs": [
    {
     "data": {
      "text/plain": [
       "GradientBoostingClassifier()"
      ]
     },
     "execution_count": 81,
     "metadata": {},
     "output_type": "execute_result"
    }
   ],
   "source": [
    "# The X and Y is X = obs[['Age', 'Gender_Encode', 'Height', 'Weight', 'BMI', 'PhysicalActivityLevel']]\n",
    "# y = obs['Obes_Encode']\n",
    "GBC = GradientBoostingClassifier()\n",
    "\n",
    "GBC.fit(X_train, y_train)"
   ]
  },
  {
   "cell_type": "code",
   "execution_count": 85,
   "metadata": {},
   "outputs": [
    {
     "data": {
      "text/plain": [
       "array([0])"
      ]
     },
     "execution_count": 85,
     "metadata": {},
     "output_type": "execute_result"
    }
   ],
   "source": [
    "GBC.predict([[56,1,173,71,23,4]])"
   ]
  },
  {
   "cell_type": "code",
   "execution_count": 84,
   "metadata": {},
   "outputs": [
    {
     "data": {
      "text/html": [
       "<div>\n",
       "<style scoped>\n",
       "    .dataframe tbody tr th:only-of-type {\n",
       "        vertical-align: middle;\n",
       "    }\n",
       "\n",
       "    .dataframe tbody tr th {\n",
       "        vertical-align: top;\n",
       "    }\n",
       "\n",
       "    .dataframe thead th {\n",
       "        text-align: right;\n",
       "    }\n",
       "</style>\n",
       "<table border=\"1\" class=\"dataframe\">\n",
       "  <thead>\n",
       "    <tr style=\"text-align: right;\">\n",
       "      <th></th>\n",
       "      <th>Obes_Encode</th>\n",
       "      <th>Age</th>\n",
       "      <th>Gender_Encode</th>\n",
       "      <th>Height</th>\n",
       "      <th>Weight</th>\n",
       "      <th>BMI</th>\n",
       "      <th>PhysicalActivityLevel</th>\n",
       "    </tr>\n",
       "  </thead>\n",
       "  <tbody>\n",
       "    <tr>\n",
       "      <th>0</th>\n",
       "      <td>0</td>\n",
       "      <td>56</td>\n",
       "      <td>1</td>\n",
       "      <td>173.575262</td>\n",
       "      <td>71.982051</td>\n",
       "      <td>23.891783</td>\n",
       "      <td>4</td>\n",
       "    </tr>\n",
       "    <tr>\n",
       "      <th>1</th>\n",
       "      <td>1</td>\n",
       "      <td>69</td>\n",
       "      <td>1</td>\n",
       "      <td>164.127306</td>\n",
       "      <td>89.959256</td>\n",
       "      <td>33.395209</td>\n",
       "      <td>2</td>\n",
       "    </tr>\n",
       "    <tr>\n",
       "      <th>2</th>\n",
       "      <td>2</td>\n",
       "      <td>46</td>\n",
       "      <td>0</td>\n",
       "      <td>168.072202</td>\n",
       "      <td>72.930629</td>\n",
       "      <td>25.817737</td>\n",
       "      <td>4</td>\n",
       "    </tr>\n",
       "    <tr>\n",
       "      <th>3</th>\n",
       "      <td>2</td>\n",
       "      <td>32</td>\n",
       "      <td>1</td>\n",
       "      <td>168.459633</td>\n",
       "      <td>84.886912</td>\n",
       "      <td>29.912247</td>\n",
       "      <td>3</td>\n",
       "    </tr>\n",
       "    <tr>\n",
       "      <th>4</th>\n",
       "      <td>0</td>\n",
       "      <td>60</td>\n",
       "      <td>1</td>\n",
       "      <td>183.568568</td>\n",
       "      <td>69.038945</td>\n",
       "      <td>20.487903</td>\n",
       "      <td>3</td>\n",
       "    </tr>\n",
       "    <tr>\n",
       "      <th>...</th>\n",
       "      <td>...</td>\n",
       "      <td>...</td>\n",
       "      <td>...</td>\n",
       "      <td>...</td>\n",
       "      <td>...</td>\n",
       "      <td>...</td>\n",
       "      <td>...</td>\n",
       "    </tr>\n",
       "    <tr>\n",
       "      <th>995</th>\n",
       "      <td>2</td>\n",
       "      <td>18</td>\n",
       "      <td>1</td>\n",
       "      <td>155.588674</td>\n",
       "      <td>64.103182</td>\n",
       "      <td>26.480345</td>\n",
       "      <td>4</td>\n",
       "    </tr>\n",
       "    <tr>\n",
       "      <th>996</th>\n",
       "      <td>1</td>\n",
       "      <td>35</td>\n",
       "      <td>0</td>\n",
       "      <td>165.076490</td>\n",
       "      <td>97.639771</td>\n",
       "      <td>35.830783</td>\n",
       "      <td>1</td>\n",
       "    </tr>\n",
       "    <tr>\n",
       "      <th>997</th>\n",
       "      <td>1</td>\n",
       "      <td>49</td>\n",
       "      <td>0</td>\n",
       "      <td>156.570956</td>\n",
       "      <td>78.804284</td>\n",
       "      <td>32.146036</td>\n",
       "      <td>1</td>\n",
       "    </tr>\n",
       "    <tr>\n",
       "      <th>998</th>\n",
       "      <td>0</td>\n",
       "      <td>64</td>\n",
       "      <td>1</td>\n",
       "      <td>164.192222</td>\n",
       "      <td>57.978115</td>\n",
       "      <td>21.505965</td>\n",
       "      <td>4</td>\n",
       "    </tr>\n",
       "    <tr>\n",
       "      <th>999</th>\n",
       "      <td>0</td>\n",
       "      <td>66</td>\n",
       "      <td>0</td>\n",
       "      <td>178.537130</td>\n",
       "      <td>74.962164</td>\n",
       "      <td>23.517168</td>\n",
       "      <td>1</td>\n",
       "    </tr>\n",
       "  </tbody>\n",
       "</table>\n",
       "<p>1000 rows × 7 columns</p>\n",
       "</div>"
      ],
      "text/plain": [
       "     Obes_Encode  Age  Gender_Encode      Height     Weight        BMI  \\\n",
       "0              0   56              1  173.575262  71.982051  23.891783   \n",
       "1              1   69              1  164.127306  89.959256  33.395209   \n",
       "2              2   46              0  168.072202  72.930629  25.817737   \n",
       "3              2   32              1  168.459633  84.886912  29.912247   \n",
       "4              0   60              1  183.568568  69.038945  20.487903   \n",
       "..           ...  ...            ...         ...        ...        ...   \n",
       "995            2   18              1  155.588674  64.103182  26.480345   \n",
       "996            1   35              0  165.076490  97.639771  35.830783   \n",
       "997            1   49              0  156.570956  78.804284  32.146036   \n",
       "998            0   64              1  164.192222  57.978115  21.505965   \n",
       "999            0   66              0  178.537130  74.962164  23.517168   \n",
       "\n",
       "     PhysicalActivityLevel  \n",
       "0                        4  \n",
       "1                        2  \n",
       "2                        4  \n",
       "3                        3  \n",
       "4                        3  \n",
       "..                     ...  \n",
       "995                      4  \n",
       "996                      1  \n",
       "997                      1  \n",
       "998                      4  \n",
       "999                      1  \n",
       "\n",
       "[1000 rows x 7 columns]"
      ]
     },
     "execution_count": 84,
     "metadata": {},
     "output_type": "execute_result"
    }
   ],
   "source": [
    "obs[[ 'Obes_Encode','Age', 'Gender_Encode', 'Height', 'Weight', 'BMI', 'PhysicalActivityLevel']]"
   ]
  },
  {
   "cell_type": "code",
   "execution_count": 87,
   "metadata": {},
   "outputs": [],
   "source": [
    "import pickle\n",
    "\n",
    "pickle.dump(GBC, open('Obesity_Presiction.pkl', 'wb'))"
   ]
  },
  {
   "cell_type": "markdown",
   "metadata": {},
   "source": [
    "_____"
   ]
  },
  {
   "cell_type": "markdown",
   "metadata": {},
   "source": [
    "\n",
    "_____"
   ]
  }
 ],
 "metadata": {
  "kernelspec": {
   "display_name": "MachineLearningbypython",
   "language": "python",
   "name": "python3"
  },
  "language_info": {
   "codemirror_mode": {
    "name": "ipython",
    "version": 3
   },
   "file_extension": ".py",
   "mimetype": "text/x-python",
   "name": "python",
   "nbconvert_exporter": "python",
   "pygments_lexer": "ipython3",
   "version": "3.7.16"
  }
 },
 "nbformat": 4,
 "nbformat_minor": 2
}
